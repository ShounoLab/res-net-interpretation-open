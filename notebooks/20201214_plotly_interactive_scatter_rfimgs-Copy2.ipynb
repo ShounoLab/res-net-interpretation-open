{
 "cells": [
  {
   "cell_type": "code",
   "execution_count": 1,
   "metadata": {},
   "outputs": [],
   "source": [
    "import os\n",
    "import pickle\n",
    "from glob import glob"
   ]
  },
  {
   "cell_type": "code",
   "execution_count": 2,
   "metadata": {},
   "outputs": [],
   "source": [
    "import numpy as np\n",
    "import plotly.graph_objects as go\n",
    "from plotly.subplots import make_subplots\n",
    "from umap import UMAP"
   ]
  },
  {
   "cell_type": "code",
   "execution_count": 3,
   "metadata": {},
   "outputs": [],
   "source": [
    "import sys\n",
    "sys.path.append(\"../src\")"
   ]
  },
  {
   "cell_type": "code",
   "execution_count": 4,
   "metadata": {},
   "outputs": [],
   "source": [
    "from utils.plots import input2image\n",
    "from utils import plots"
   ]
  },
  {
   "cell_type": "code",
   "execution_count": 5,
   "metadata": {},
   "outputs": [],
   "source": [
    "analysis_root = \"/data2/genta/resnet/analysis/\"\n",
    "# rf_root = \"/mnt/nas3/lab_member_directories/2021_genta/resnet/e_receptive_field/\"\n",
    "rf_root = \"/mnt/nas5/lab_member_directories/2021_genta/resnet/e_receptive_field/\""
   ]
  },
  {
   "cell_type": "code",
   "execution_count": 6,
   "metadata": {},
   "outputs": [],
   "source": [
    "from sklearn.decomposition import PCA\n",
    "from sklearn.manifold import TSNE"
   ]
  },
  {
   "cell_type": "code",
   "execution_count": 9,
   "metadata": {},
   "outputs": [],
   "source": [
    "from IPython.display import display\n",
    "\n",
    "class Visualizer:\n",
    "    def __init__(self, analysis_root=None, rf_root=None, model_name=None, key_layer=None, block_id=None, dr_method_name=\"PCA\"):\n",
    "        \"\"\"\n",
    "        \"\"\"\n",
    "        if analysis_root is None:\n",
    "            analysis_root = \"/data2/genta/resnet/analysis/\"\n",
    "        if rf_root is None:\n",
    "            rf_root = \"/mnt/nas3/lab_member_directories/2021_genta/resnet/e_receptive_field/\"\n",
    "        self.analysis_root = analysis_root\n",
    "        self.rf_root = rf_root\n",
    "        \n",
    "        if model_name is not None and key_layer is not None and block_id is not None:\n",
    "            self.set_vis_layer(model_name, key_layer, block_id)\n",
    "        else:\n",
    "            self.act_dir_path = None\n",
    "            self.rf_dir_path = None\n",
    "            \n",
    "        self.dr_method_name = dr_method_name\n",
    "        self.f = None\n",
    "\n",
    "    def _show_glob_paths(self, model_name, key_layer, block_id):\n",
    "        cond_path = glob(os.path.join(self.analysis_root, model_name + \"*\", key_layer + \"*\" + str(block_id)))\n",
    "        print(\"analysis path\")\n",
    "        print(cond_path)\n",
    "        cond_path = glob(os.path.join(self.rf_root, \"*\" + model_name + \"*\" + key_layer + \".\" + str(block_id) + \"*\"))\n",
    "        print(\"rf path\")\n",
    "        print(cond_path)\n",
    "        \n",
    "    \n",
    "    def set_vis_layer(self, model_name, key_layer, block_id):\n",
    "        if self.analysis_root is None or self.rf_root is None:\n",
    "            raise ValueError\n",
    "            \n",
    "        cond_path = glob(os.path.join(self.analysis_root, model_name + \"*\", key_layer + \"*\" + str(block_id)))\n",
    "        assert len(cond_path) != 0, \"Not found\"\n",
    "        assert len(cond_path) == 1, \"ambiguous; model name or key_layer or block_id. you can check paths to use _show_glob_paths\"\n",
    "        self.act_dir_path = cond_path[0]\n",
    "\n",
    "        cond_path = glob(os.path.join(self.rf_root, \"*\" + model_name + \"*\" + key_layer + \".\" + str(block_id) + \"*\"))\n",
    "        assert len(cond_path) != 0, \"Not found\"\n",
    "        assert len(cond_path) == 1, \"ambiguous; model name or key_layer or block_id. you can check paths to use _show_glob_paths\"\n",
    "        self.rf_dir_path = cond_path[0]\n",
    "    \n",
    "    def dimension_reduction_methods(self, n_neighbors=None, **kwargs):\n",
    "        tmp_name = self.dr_method_name.upper()\n",
    "        if tmp_name == \"PCA\":\n",
    "            self.dr_model = PCA(svd_solver=\"full\")\n",
    "        elif tmp_name == \"UMAP\":\n",
    "            self.dr_model = UMAP(n_neighbors=n_neighbors, **kwargs)\n",
    "        elif tmp_name == \"TSNE\":\n",
    "            self.dr_model = TSNE(**kwargs)\n",
    "        else:\n",
    "            raise ValueError(tmp_name)\n",
    "        \n",
    "    \n",
    "    def set_ch_data(self, ch):\n",
    "        if self.act_dir_path is None or self.rf_dir_path is None:\n",
    "            msg = \"do set_vis_layer\"\n",
    "            raise ValueError(msg)\n",
    "        \n",
    "        path = os.path.join(self.act_dir_path, \"act_preact_{:03}.pkl\".format(ch))\n",
    "        with open(path, \"rb\") as f:\n",
    "            self.act_preact = pickle.load(f)\n",
    "\n",
    "        path = os.path.join(self.rf_dir_path, \"top_rf_datas\", \"rfimgs-{:03}.npy\".format(ch))\n",
    "        self.rfimgs = np.load(path)\n",
    "        path = os.path.join(self.rf_dir_path, \"top_rf_datas\", \"rfgrads-{:03}.npy\".format(ch))\n",
    "        self.rfgrads = np.load(path)\n",
    "\n",
    "        \n",
    "    def set_scatter_data(self, n_neighbors=None, random_state=1119, N=100, dr_method_name=None, specific_pos=None):\n",
    "        if dr_method_name is not None:\n",
    "            \n",
    "            self.dr_method_name = dr_method_name\n",
    "        self.dimension_reduction_methods(n_components=2, n_neighbors=n_neighbors, random_state=random_state)\n",
    "        if specific_pos is None:\n",
    "            self.scatter_data = self.dr_model.fit_transform(self.act_preact[1])\n",
    "        else:\n",
    "            rf_h = 5\n",
    "            rf_w = 5\n",
    "            tmp_data = self.act_preact[1]\n",
    "            self.scatter_data = self.dr_model.fit_transform(tmp_data.reshape(len(tmp_data), -1, rf_h, rf_w)[..., specific_pos[0], specific_pos[1]])\n",
    "\n",
    "\n",
    "        images = self.rfimgs[:N]\n",
    "        images = input2image(images)\n",
    "        self.images = np.transpose(images, (0, 2, 3, 1)) * 256\n",
    "        \n",
    "        images = self.rfimgs[:N] * np.abs(plots.normalize_inputspace(self.rfgrads[:N]))            \n",
    "        images = input2image(images)\n",
    "        self.erfimages = np.transpose(images, (0, 2, 3, 1)) * 256\n",
    "        \n",
    "        self.f = go.FigureWidget(make_subplots(rows=1, cols=3))\n",
    "        self.f.add_trace(go.Scatter(x=self.scatter_data[:, 0], y=self.scatter_data[:, 1], mode='markers'), row=1, col=1)\n",
    "        self.f.add_trace(go.Image(z=np.ones_like(self.images[0])), row=1, col=2)\n",
    "        self.f.add_trace(go.Image(z=np.ones_like(self.images[0])), row=1, col=3)\n",
    "\n",
    "        colors = plots.get_colors(N=N)\n",
    "        colors = [\"#{:02x}{:02x}{:02x}\".format(int(r * 255), int(g * 255), int(b * 255)) for r, g, b, _ in colors]\n",
    "        default_colors = tuple(colors[::-1])\n",
    "        default_size = (10, ) * N\n",
    "\n",
    "        self.scatter = self.f.data[0]\n",
    "        self.scatter.marker.color = default_colors\n",
    "        self.scatter.marker.size = default_size\n",
    "        f_images = self.f.data[1]\n",
    "        f_erfimages = self.f.data[2]\n",
    "\n",
    "        self.f.layout.hovermode = 'closest'\n",
    "\n",
    "\n",
    "        # create our callback function\n",
    "        def update_point(trace, points, selector):\n",
    "            i = points.point_inds[0]    \n",
    "            colors = list(default_colors)\n",
    "            marker_size = list(default_size)\n",
    "            colors[i] = \"red\"\n",
    "            marker_size[i] = 20\n",
    "\n",
    "            self.scatter.marker.color = colors\n",
    "            self.scatter.marker.size = marker_size\n",
    "            f_images.z = self.images[i]\n",
    "            f_erfimages.z = self.erfimages[i]\n",
    "\n",
    "        self.scatter.on_click(update_point)\n",
    "\n",
    "    def view_figure(self):\n",
    "        if self.f is None:\n",
    "            msg = \"do set_ch_data & set_scatter_data\"\n",
    "            raise ValueError(msg)\n",
    "        \n",
    "        display(self.f)\n",
    "        \n",
    "    def show_all(self, mode=\"rfimgs\", N=100):\n",
    "        if mode == \"rfimgs\":\n",
    "            images = self.rfimgs[:N]\n",
    "        elif mode == \"erfimgs\":\n",
    "            images = self.rfimgs[:N] * np.abs(plots.normalize_inputspace(self.rfgrads[:N]))            \n",
    "        images = input2image(images)\n",
    "        plots.plot_imshows(images, show_flag=True)"
   ]
  },
  {
   "cell_type": "raw",
   "metadata": {},
   "source": [
    "# ResNet channels\n",
    "layer1.0 62\n",
    "layer1.1 62\n",
    "layer1.2 62\n",
    "\n",
    "\n",
    "layer4.0 8, 31, 80, 100, 131, 134, 147\n",
    "\n",
    "layer4.1 8, 26, 40, 95, 100, 157, 190, 191,\n",
    "\n",
    "layer4.2 1, 2, 7, 14, 15, 16, 26, 27, 38, 58, 65, 82, 88, 92, 100, 101, 136, 138, 142, 154, 157, 197\n",
    "\n",
    "# PlainNet \n",
    "\n",
    "layer1.2 62\n"
   ]
  },
  {
   "cell_type": "raw",
   "metadata": {},
   "source": [
    "plainnet34_view = Visualizer(model_name=\"plainnet34\", key_layer=\"layer4\", block_id=2, dr_method_name=\"UMAP\")\n",
    "\n",
    "plainnet34_view.set_ch_data(466)\n",
    "plainnet34_view.set_scatter_data(n_neighbors=10)\n",
    "\n",
    "plainnet34_view.view_figure()"
   ]
  },
  {
   "cell_type": "raw",
   "metadata": {},
   "source": [
    "plainnet34_view2 = Visualizer(model_name=\"plainnet34\", key_layer=\"layer4\", block_id=2, dr_method_name=\"UMAP\")\n",
    "\n",
    "plainnet34_view2.set_ch_data(209)\n",
    "plainnet34_view2.set_scatter_data(n_neighbors=10)\n",
    "\n",
    "plainnet34_view2.view_figure()"
   ]
  },
  {
   "cell_type": "raw",
   "metadata": {},
   "source": [
    "resnet34_view2 = Visualizer(model_name=\"resnet34\", key_layer=\"layer4\", block_id=2, dr_method_name=\"UMAP\")\n",
    "\n",
    "resnet34_view2.set_ch_data(415)\n",
    "resnet34_view2.set_scatter_data(n_neighbors=10)\n",
    "\n",
    "resnet34_view2.view_figure()"
   ]
  },
  {
   "cell_type": "raw",
   "metadata": {},
   "source": [
    "# ch_list = [206, 428, 212, 467, 435, 140, 461, 284, 459, 242]\n",
    "ch_list = [206]\n",
    "viewers = [Visualizer(model_name=\"resnet34\", key_layer=\"layer4\", block_id=2, dr_method_name=\"UMAP\") for _ in ch_list]\n",
    "for cnt, ch in enumerate(ch_list):\n",
    "    viewers[cnt].set_ch_data(ch)\n",
    "    viewers[cnt].set_scatter_data(n_neighbors=10)\n",
    "    viewers[cnt].view_figure()"
   ]
  },
  {
   "cell_type": "raw",
   "metadata": {},
   "source": [
    "# ch_list = [466,  37,  89, 104, 441, 421, 159]\n",
    "ch_list = [466]\n",
    "viewers2 = [Visualizer(model_name=\"plainnet34\", key_layer=\"layer4\", block_id=2, dr_method_name=\"UMAP\") for _ in ch_list]\n",
    "for cnt, ch in enumerate(ch_list):\n",
    "    viewers2[cnt].set_ch_data(ch)\n",
    "    viewers2[cnt].set_scatter_data(n_neighbors=10)\n",
    "    viewers2[cnt].view_figure()"
   ]
  },
  {
   "cell_type": "code",
   "execution_count": null,
   "metadata": {},
   "outputs": [],
   "source": []
  },
  {
   "cell_type": "code",
   "execution_count": null,
   "metadata": {},
   "outputs": [],
   "source": []
  },
  {
   "cell_type": "code",
   "execution_count": 10,
   "metadata": {},
   "outputs": [
    {
     "data": {
      "application/vnd.jupyter.widget-view+json": {
       "model_id": "6bf0549eb3a34565a0975e7087a333cc",
       "version_major": 2,
       "version_minor": 0
      },
      "text/plain": [
       "FigureWidget({\n",
       "    'data': [{'marker': {'color': [#fde724, #f8e621, #f1e51c, #ece41a, #e4e318,\n",
       "               …"
      ]
     },
     "metadata": {},
     "output_type": "display_data"
    },
    {
     "data": {
      "application/vnd.jupyter.widget-view+json": {
       "model_id": "dfd75806caa34861b24f4fbe0dec8ae5",
       "version_major": 2,
       "version_minor": 0
      },
      "text/plain": [
       "FigureWidget({\n",
       "    'data': [{'marker': {'color': [#fde724, #f8e621, #f1e51c, #ece41a, #e4e318,\n",
       "               …"
      ]
     },
     "metadata": {},
     "output_type": "display_data"
    },
    {
     "data": {
      "application/vnd.jupyter.widget-view+json": {
       "model_id": "d8b146600f294c3a8a98c4f18adbff91",
       "version_major": 2,
       "version_minor": 0
      },
      "text/plain": [
       "FigureWidget({\n",
       "    'data': [{'marker': {'color': [#fde724, #f8e621, #f1e51c, #ece41a, #e4e318,\n",
       "               …"
      ]
     },
     "metadata": {},
     "output_type": "display_data"
    },
    {
     "data": {
      "application/vnd.jupyter.widget-view+json": {
       "model_id": "c7f5bdb8098845cf8290d9a8049ee43a",
       "version_major": 2,
       "version_minor": 0
      },
      "text/plain": [
       "FigureWidget({\n",
       "    'data': [{'marker': {'color': [#fde724, #f8e621, #f1e51c, #ece41a, #e4e318,\n",
       "               …"
      ]
     },
     "metadata": {},
     "output_type": "display_data"
    }
   ],
   "source": [
    "# ch_list = [206, 428, 212, 467, 435, 140, 461, 284, 459, 242]\n",
    "ch_list = [206, 428, 212, 467]\n",
    "# ch_list = [206]\n",
    "viewers = [Visualizer(model_name=\"resnet34\", key_layer=\"layer4\", block_id=2, dr_method_name=\"UMAP\") for _ in ch_list]\n",
    "for cnt, ch in enumerate(ch_list):\n",
    "    viewers[cnt].set_ch_data(ch)\n",
    "    viewers[cnt].set_scatter_data(n_neighbors=10, specific_pos=(2, 2))\n",
    "    viewers[cnt].view_figure()"
   ]
  },
  {
   "cell_type": "code",
   "execution_count": 10,
   "metadata": {},
   "outputs": [
    {
     "data": {
      "application/vnd.jupyter.widget-view+json": {
       "model_id": "6bf0549eb3a34565a0975e7087a333cc",
       "version_major": 2,
       "version_minor": 0
      },
      "text/plain": [
       "FigureWidget({\n",
       "    'data': [{'marker': {'color': [#fde724, #f8e621, #f1e51c, #ece41a, #e4e318,\n",
       "               …"
      ]
     },
     "metadata": {},
     "output_type": "display_data"
    },
    {
     "data": {
      "application/vnd.jupyter.widget-view+json": {
       "model_id": "dfd75806caa34861b24f4fbe0dec8ae5",
       "version_major": 2,
       "version_minor": 0
      },
      "text/plain": [
       "FigureWidget({\n",
       "    'data': [{'marker': {'color': [#fde724, #f8e621, #f1e51c, #ece41a, #e4e318,\n",
       "               …"
      ]
     },
     "metadata": {},
     "output_type": "display_data"
    },
    {
     "data": {
      "application/vnd.jupyter.widget-view+json": {
       "model_id": "d8b146600f294c3a8a98c4f18adbff91",
       "version_major": 2,
       "version_minor": 0
      },
      "text/plain": [
       "FigureWidget({\n",
       "    'data': [{'marker': {'color': [#fde724, #f8e621, #f1e51c, #ece41a, #e4e318,\n",
       "               …"
      ]
     },
     "metadata": {},
     "output_type": "display_data"
    },
    {
     "data": {
      "application/vnd.jupyter.widget-view+json": {
       "model_id": "c7f5bdb8098845cf8290d9a8049ee43a",
       "version_major": 2,
       "version_minor": 0
      },
      "text/plain": [
       "FigureWidget({\n",
       "    'data': [{'marker': {'color': [#fde724, #f8e621, #f1e51c, #ece41a, #e4e318,\n",
       "               …"
      ]
     },
     "metadata": {},
     "output_type": "display_data"
    }
   ],
   "source": [
    "# ch_list = [206, 428, 212, 467, 435, 140, 461, 284, 459, 242]\n",
    "ch_list = [206, 428, 212, 467]\n",
    "# ch_list = [206]\n",
    "viewers = [Visualizer(model_name=\"resnet34\", key_layer=\"layer4\", block_id=2, dr_method_name=\"UMAP\") for _ in ch_list]\n",
    "for cnt, ch in enumerate(ch_list):\n",
    "    viewers[cnt].set_ch_data(ch)\n",
    "    viewers[cnt].set_scatter_data(n_neighbors=10, specific_pos=(2, 2))\n",
    "    viewers[cnt].view_figure()"
   ]
  },
  {
   "cell_type": "code",
   "execution_count": 12,
   "metadata": {},
   "outputs": [
    {
     "data": {
      "application/vnd.jupyter.widget-view+json": {
       "model_id": "7d82d264e9ea47b5bbe0b54f14088db4",
       "version_major": 2,
       "version_minor": 0
      },
      "text/plain": [
       "FigureWidget({\n",
       "    'data': [{'marker': {'color': [#fde724, #f8e621, #f1e51c, #ece41a, #e4e318,\n",
       "               …"
      ]
     },
     "metadata": {},
     "output_type": "display_data"
    },
    {
     "data": {
      "application/vnd.jupyter.widget-view+json": {
       "model_id": "262faceb37e34263ad12b1ca6246c4c2",
       "version_major": 2,
       "version_minor": 0
      },
      "text/plain": [
       "FigureWidget({\n",
       "    'data': [{'marker': {'color': [#fde724, #f8e621, #f1e51c, #ece41a, #e4e318,\n",
       "               …"
      ]
     },
     "metadata": {},
     "output_type": "display_data"
    },
    {
     "data": {
      "application/vnd.jupyter.widget-view+json": {
       "model_id": "8a86ca20cda3469380a67d2cda9200dc",
       "version_major": 2,
       "version_minor": 0
      },
      "text/plain": [
       "FigureWidget({\n",
       "    'data': [{'marker': {'color': [#fde724, #f8e621, #f1e51c, #ece41a, #e4e318,\n",
       "               …"
      ]
     },
     "metadata": {},
     "output_type": "display_data"
    },
    {
     "data": {
      "application/vnd.jupyter.widget-view+json": {
       "model_id": "d0eb0ff3d8914cd4affb52035958cd6a",
       "version_major": 2,
       "version_minor": 0
      },
      "text/plain": [
       "FigureWidget({\n",
       "    'data': [{'marker': {'color': [#fde724, #f8e621, #f1e51c, #ece41a, #e4e318,\n",
       "               …"
      ]
     },
     "metadata": {},
     "output_type": "display_data"
    }
   ],
   "source": [
    "# ch_list = [466,  37,  89, 104, 441, 421, 159]\n",
    "ch_list = [206, 428, 212, 467]\n",
    "viewers2 = [Visualizer(model_name=\"resnet34\", key_layer=\"layer4\", block_id=2, dr_method_name=\"UMAP\") for _ in ch_list]\n",
    "for cnt, ch in enumerate(ch_list):\n",
    "    viewers2[cnt].set_ch_data(ch)\n",
    "    viewers2[cnt].set_scatter_data(n_neighbors=10)\n",
    "    viewers2[cnt].view_figure()"
   ]
  },
  {
   "cell_type": "code",
   "execution_count": null,
   "metadata": {},
   "outputs": [],
   "source": []
  },
  {
   "cell_type": "code",
   "execution_count": 14,
   "metadata": {},
   "outputs": [
    {
     "data": {
      "application/vnd.jupyter.widget-view+json": {
       "model_id": "a74d1030136444ecbcb3f9cdf11a8ee3",
       "version_major": 2,
       "version_minor": 0
      },
      "text/plain": [
       "FigureWidget({\n",
       "    'data': [{'marker': {'color': [#fde724, #f8e621, #f1e51c, #ece41a, #e4e318,\n",
       "               …"
      ]
     },
     "metadata": {},
     "output_type": "display_data"
    }
   ],
   "source": [
    "ch_list = [466]\n",
    "viewers3 = [Visualizer(model_name=\"plainnet34\", key_layer=\"layer4\", block_id=2, dr_method_name=\"UMAP\") for _ in ch_list]\n",
    "for cnt, ch in enumerate(ch_list):\n",
    "    viewers3[cnt].set_ch_data(ch)\n",
    "    viewers3[cnt].set_scatter_data(n_neighbors=10)\n",
    "    viewers3[cnt].view_figure()"
   ]
  },
  {
   "cell_type": "raw",
   "metadata": {},
   "source": [
    "viewers[0].show_all(mode=\"erfimgs\", N=49)"
   ]
  },
  {
   "cell_type": "raw",
   "metadata": {},
   "source": [
    "viewers2[0].show_all(mode=\"erfimgs\", N=49)"
   ]
  },
  {
   "cell_type": "code",
   "execution_count": 17,
   "metadata": {},
   "outputs": [
    {
     "data": {
      "application/vnd.jupyter.widget-view+json": {
       "model_id": "7fbaa0d18950433a94ab799c44aed4f6",
       "version_major": 2,
       "version_minor": 0
      },
      "text/plain": [
       "FigureWidget({\n",
       "    'data': [{'marker': {'color': [#fde724, #f8e621, #f1e51c, #ece41a, #e4e318,\n",
       "               …"
      ]
     },
     "metadata": {},
     "output_type": "display_data"
    }
   ],
   "source": [
    "resnet34_view = Visualizer(model_name=\"resnet34\", key_layer=\"layer1\", block_id=2, dr_method_name=\"UMAP\")\n",
    "\n",
    "resnet34_view.set_ch_data(62)\n",
    "resnet34_view.set_scatter_data(n_neighbors=10)\n",
    "\n",
    "resnet34_view.view_figure()"
   ]
  },
  {
   "cell_type": "markdown",
   "metadata": {},
   "source": [
    "# PCA"
   ]
  },
  {
   "cell_type": "code",
   "execution_count": 27,
   "metadata": {},
   "outputs": [
    {
     "data": {
      "application/vnd.jupyter.widget-view+json": {
       "model_id": "6899bf26d3ff4bdb86d697be1cabb269",
       "version_major": 2,
       "version_minor": 0
      },
      "text/plain": [
       "FigureWidget({\n",
       "    'data': [{'marker': {'color': [#fde724, #f8e621, #f1e51c, #ece41a, #e4e318,\n",
       "               …"
      ]
     },
     "metadata": {},
     "output_type": "display_data"
    }
   ],
   "source": [
    "resnet34_view = Visualizer(model_name=\"resnet34\", key_layer=\"layer4\", block_id=0, dr_method_name=\"PCA\")\n",
    "\n",
    "resnet34_view.set_ch_data(147)\n",
    "resnet34_view.set_scatter_data()\n",
    "\n",
    "resnet34_view.view_figure()"
   ]
  },
  {
   "cell_type": "code",
   "execution_count": 30,
   "metadata": {},
   "outputs": [
    {
     "data": {
      "application/vnd.jupyter.widget-view+json": {
       "model_id": "30170d3bbb834f68acecbc7db29ff4ad",
       "version_major": 2,
       "version_minor": 0
      },
      "text/plain": [
       "FigureWidget({\n",
       "    'data': [{'marker': {'color': [#fde724, #f8e621, #f1e51c, #ece41a, #e4e318,\n",
       "               …"
      ]
     },
     "metadata": {},
     "output_type": "display_data"
    }
   ],
   "source": [
    "resnet34_view = Visualizer(model_name=\"resnet34\", key_layer=\"layer4\", block_id=0, dr_method_name=\"UMAP\")\n",
    "\n",
    "resnet34_view.set_ch_data(147)\n",
    "resnet34_view.set_scatter_data(n_neighbors=15)\n",
    "\n",
    "resnet34_view.view_figure()"
   ]
  },
  {
   "cell_type": "code",
   "execution_count": 31,
   "metadata": {},
   "outputs": [
    {
     "data": {
      "application/vnd.jupyter.widget-view+json": {
       "model_id": "753f0334ea204536a69f547cb0fedb17",
       "version_major": 2,
       "version_minor": 0
      },
      "text/plain": [
       "FigureWidget({\n",
       "    'data': [{'marker': {'color': [#fde724, #f8e621, #f1e51c, #ece41a, #e4e318,\n",
       "               …"
      ]
     },
     "metadata": {},
     "output_type": "display_data"
    }
   ],
   "source": [
    "resnet34_view = Visualizer(model_name=\"resnet34\", key_layer=\"layer4\", block_id=0, dr_method_name=\"UMAP\")\n",
    "\n",
    "resnet34_view.set_ch_data(148)\n",
    "resnet34_view.set_scatter_data(n_neighbors=15)\n",
    "\n",
    "resnet34_view.view_figure()"
   ]
  },
  {
   "cell_type": "code",
   "execution_count": 11,
   "metadata": {},
   "outputs": [
    {
     "data": {
      "application/vnd.jupyter.widget-view+json": {
       "model_id": "5d8b4ce3eb5f45dfaa4c3de3b088d8a4",
       "version_major": 2,
       "version_minor": 0
      },
      "text/plain": [
       "FigureWidget({\n",
       "    'data': [{'marker': {'color': [#fde724, #f8e621, #f1e51c, #ece41a, #e4e318,\n",
       "               …"
      ]
     },
     "metadata": {},
     "output_type": "display_data"
    }
   ],
   "source": [
    "resnet34_view = Visualizer(model_name=\"resnet34\", key_layer=\"layer4\", block_id=2, dr_method_name=\"PCA\")\n",
    "\n",
    "resnet34_view.set_ch_data(38)\n",
    "resnet34_view.set_scatter_data()\n",
    "\n",
    "resnet34_view.view_figure()"
   ]
  },
  {
   "cell_type": "code",
   "execution_count": 10,
   "metadata": {},
   "outputs": [
    {
     "data": {
      "application/vnd.jupyter.widget-view+json": {
       "model_id": "fd4af41238e2481e93f9b14581f51ed9",
       "version_major": 2,
       "version_minor": 0
      },
      "text/plain": [
       "FigureWidget({\n",
       "    'data': [{'marker': {'color': [#fde724, #f8e621, #f1e51c, #ece41a, #e4e318,\n",
       "               …"
      ]
     },
     "metadata": {},
     "output_type": "display_data"
    }
   ],
   "source": [
    "plainnet34_view = Visualizer(model_name=\"plainnet34\", key_layer=\"layer4\", block_id=2, dr_method_name=\"PCA\")\n",
    "\n",
    "plainnet34_view.set_ch_data(489)\n",
    "plainnet34_view.set_scatter_data()\n",
    "\n",
    "plainnet34_view.view_figure()"
   ]
  },
  {
   "cell_type": "markdown",
   "metadata": {},
   "source": [
    "# UMAP"
   ]
  },
  {
   "cell_type": "code",
   "execution_count": 25,
   "metadata": {},
   "outputs": [
    {
     "data": {
      "application/vnd.jupyter.widget-view+json": {
       "model_id": "28bcae489e85499d8402e2dd196fed56",
       "version_major": 2,
       "version_minor": 0
      },
      "text/plain": [
       "FigureWidget({\n",
       "    'data': [{'marker': {'color': [#fde724, #f8e621, #f1e51c, #ece41a, #e4e318,\n",
       "               …"
      ]
     },
     "metadata": {},
     "output_type": "display_data"
    }
   ],
   "source": [
    "resnet34_view = Visualizer(model_name=\"resnet34\", key_layer=\"layer4\", block_id=2, dr_method_name=\"UMAP\")\n",
    "\n",
    "resnet34_view.set_ch_data(38)\n",
    "resnet34_view.set_scatter_data(n_neighbors=15)\n",
    "\n",
    "resnet34_view.view_figure()"
   ]
  },
  {
   "cell_type": "code",
   "execution_count": 26,
   "metadata": {},
   "outputs": [
    {
     "data": {
      "application/vnd.jupyter.widget-view+json": {
       "model_id": "93cc1d0c1cd34195a3503349d0a253b0",
       "version_major": 2,
       "version_minor": 0
      },
      "text/plain": [
       "FigureWidget({\n",
       "    'data': [{'marker': {'color': [#fde724, #f8e621, #f1e51c, #ece41a, #e4e318,\n",
       "               …"
      ]
     },
     "metadata": {},
     "output_type": "display_data"
    }
   ],
   "source": [
    "plainnet34_view = Visualizer(model_name=\"plainnet34\", key_layer=\"layer4\", block_id=2, dr_method_name=\"UMAP\")\n",
    "\n",
    "plainnet34_view.set_ch_data(38)\n",
    "plainnet34_view.set_scatter_data(n_neighbors=15)\n",
    "\n",
    "plainnet34_view.view_figure()"
   ]
  },
  {
   "cell_type": "code",
   "execution_count": 19,
   "metadata": {},
   "outputs": [
    {
     "data": {
      "application/vnd.jupyter.widget-view+json": {
       "model_id": "2a4dbf46863d4ce9829ba8ce0c122753",
       "version_major": 2,
       "version_minor": 0
      },
      "text/plain": [
       "FigureWidget({\n",
       "    'data': [{'marker': {'color': [#fde724, #f8e621, #f1e51c, #ece41a, #e4e318,\n",
       "               …"
      ]
     },
     "metadata": {},
     "output_type": "display_data"
    }
   ],
   "source": [
    "resnet34_view = Visualizer(model_name=\"resnet34\", key_layer=\"layer4\", block_id=2, dr_method_name=\"UMAP\")\n",
    "\n",
    "resnet34_view.set_ch_data(358)\n",
    "resnet34_view.set_scatter_data(n_neighbors=15)\n",
    "\n",
    "resnet34_view.view_figure()"
   ]
  },
  {
   "cell_type": "code",
   "execution_count": 20,
   "metadata": {},
   "outputs": [
    {
     "data": {
      "application/vnd.jupyter.widget-view+json": {
       "model_id": "060874717b7f4db8a2f6a5a6ba7f672a",
       "version_major": 2,
       "version_minor": 0
      },
      "text/plain": [
       "FigureWidget({\n",
       "    'data': [{'marker': {'color': [#fde724, #f8e621, #f1e51c, #ece41a, #e4e318,\n",
       "               …"
      ]
     },
     "metadata": {},
     "output_type": "display_data"
    }
   ],
   "source": [
    "plainnet34_view = Visualizer(model_name=\"plainnet34\", key_layer=\"layer4\", block_id=2, dr_method_name=\"UMAP\")\n",
    "\n",
    "plainnet34_view.set_ch_data(489)\n",
    "plainnet34_view.set_scatter_data(n_neighbors=15)\n",
    "\n",
    "plainnet34_view.view_figure()"
   ]
  },
  {
   "cell_type": "code",
   "execution_count": null,
   "metadata": {},
   "outputs": [],
   "source": []
  },
  {
   "cell_type": "code",
   "execution_count": null,
   "metadata": {},
   "outputs": [],
   "source": []
  },
  {
   "cell_type": "code",
   "execution_count": 10,
   "metadata": {},
   "outputs": [
    {
     "data": {
      "application/vnd.jupyter.widget-view+json": {
       "model_id": "ed5a25abf7074e75b25706583ec4f793",
       "version_major": 2,
       "version_minor": 0
      },
      "text/plain": [
       "FigureWidget({\n",
       "    'data': [{'marker': {'color': [#fde724, #f8e621, #f1e51c, #ece41a, #e4e318,\n",
       "               …"
      ]
     },
     "metadata": {},
     "output_type": "display_data"
    }
   ],
   "source": [
    "resnet34_view = Visualizer(model_name=\"resnet34\", key_layer=\"layer4\", block_id=2, dr_method_name=\"UMAP\")\n",
    "\n",
    "resnet34_view.set_ch_data(358)\n",
    "resnet34_view.set_scatter_data(n_neighbors=10)\n",
    "\n",
    "resnet34_view.view_figure()"
   ]
  },
  {
   "cell_type": "code",
   "execution_count": null,
   "metadata": {},
   "outputs": [],
   "source": []
  },
  {
   "cell_type": "code",
   "execution_count": 9,
   "metadata": {},
   "outputs": [
    {
     "data": {
      "application/vnd.jupyter.widget-view+json": {
       "model_id": "6d3ea842ddd2408c8cd25642b95b9872",
       "version_major": 2,
       "version_minor": 0
      },
      "text/plain": [
       "FigureWidget({\n",
       "    'data': [{'marker': {'color': [#fde724, #f8e621, #f1e51c, #ece41a, #e4e318,\n",
       "               …"
      ]
     },
     "metadata": {},
     "output_type": "display_data"
    }
   ],
   "source": [
    "plainnet34_view = Visualizer(model_name=\"plainnet34\", key_layer=\"layer4\", block_id=1, dr_method_name=\"PCA\")\n",
    "\n",
    "plainnet34_view.set_ch_data(232)\n",
    "plainnet34_view.set_scatter_data()\n",
    "\n",
    "plainnet34_view.view_figure()"
   ]
  },
  {
   "cell_type": "code",
   "execution_count": null,
   "metadata": {},
   "outputs": [],
   "source": []
  }
 ],
 "metadata": {
  "kernelspec": {
   "display_name": "dlb2-pytorch",
   "language": "python",
   "name": "dlb2-pytorch"
  },
  "language_info": {
   "codemirror_mode": {
    "name": "ipython",
    "version": 3
   },
   "file_extension": ".py",
   "mimetype": "text/x-python",
   "name": "python",
   "nbconvert_exporter": "python",
   "pygments_lexer": "ipython3",
   "version": "3.6.2"
  }
 },
 "nbformat": 4,
 "nbformat_minor": 4
}
